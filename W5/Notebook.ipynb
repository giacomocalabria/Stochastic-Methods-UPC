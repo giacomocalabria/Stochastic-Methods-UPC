{
 "cells": [
  {
   "cell_type": "markdown",
   "metadata": {},
   "source": [
    "### Calculation of $n[r]$ for an ideal gas\n",
    "\n",
    "$n[r]$ represents the average number of particles found at a distance $d$ where $r\\leq d \\leq r + \\Delta r$ from a given particle $i$. For an ideal gas, the position of all particles is independent.\n",
    "\n",
    "\n",
    "Write a MC code where $N=1000$ particoles are uniformly distributed inside a 2D box of size $L=10$. Compute all pair distances $R_{ij},\\{i,1,N-1\\},\\{j,i+1,N\\}$ and accumulate the value $r_{ij}$ (increment of 1 in the counts of both particles) at bin number $r_{ij}/\\Delta r$.\n",
    "\n",
    "All $N$ particoles are identical, so a common count is enough. Just accumulate 1 in both bins of particles $i$ and $j$ -> increment by 2.\n",
    "\n",
    "Properly normalize the histogram dividing by $N$ x Nsamples\n",
    "\n",
    "The pair distances $r_{ij}$ must be computed as the smallest distance between the images of particles $i$ and $j$.\n",
    "\n",
    "The plot togheter the resulting histogram and the theoretical value the function $n(r)=2\\pi r$."
   ]
  },
  {
   "cell_type": "code",
   "execution_count": 7,
   "metadata": {},
   "outputs": [],
   "source": [
    "import random\n",
    "import math\n",
    "import numpy as np\n",
    "import matplotlib.pyplot as plt"
   ]
  },
  {
   "cell_type": "code",
   "execution_count": 8,
   "metadata": {},
   "outputs": [],
   "source": [
    "N = 1000\n",
    "L = 10\n",
    "\n",
    "def distance(x1, y1, x2, y2):\n",
    "    return math.sqrt((x2 - x1)**2 + (y2 - y1)**2)\n",
    "\n",
    "Particles = np.zeros((N, 2))\n",
    "\n",
    "for i in range(N):\n",
    "    Particles[i][0] = random.random() * L\n",
    "    Particles[i][1] = random.random() * L\n",
    "\n",
    "# compute the distance between all particles\n",
    "Distances = np.zeros((N, N))\n",
    "for i in range(N):\n",
    "    for j in range(i+1, N):\n",
    "        Distances[i][j] = distance(Particles[i][0], Particles[i][1], Particles[j][0], Particles[j][1])\n",
    "        Distances[j][i] = Distances[i][j]"
   ]
  },
  {
   "cell_type": "code",
   "execution_count": 11,
   "metadata": {},
   "outputs": [
    {
     "data": {
      "image/png": "[encoded data removed]",
      "text/plain": [
       "<Figure size 640x480 with 1 Axes>"
      ]
     },
     "metadata": {},
     "output_type": "display_data"
    }
   ],
   "source": [
    "# compute the histogram\n",
    "plt.hist(Distances, bins=100)\n",
    "plt.xlabel(r'Distance')\n",
    "plt.ylabel(r'Counts')\n",
    "plt.show()"
   ]
  }
 ],
 "metadata": {
  "kernelspec": {
   "display_name": "Python 3",
   "language": "python",
   "name": "python3"
  },
  "language_info": {
   "codemirror_mode": {
    "name": "ipython",
    "version": 3
   },
   "file_extension": ".py",
   "mimetype": "text/x-python",
   "name": "python",
   "nbconvert_exporter": "python",
   "pygments_lexer": "ipython3",
   "version": "3.12.1"
  }
 },
 "nbformat": 4,
 "nbformat_minor": 2
}
