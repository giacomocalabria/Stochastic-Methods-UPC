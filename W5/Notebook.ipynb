{
 "cells": [
  {
   "cell_type": "markdown",
   "metadata": {},
   "source": [
    "### Calculation of $n[r]$ for an ideal gas\n",
    "\n",
    "$n[r]$ represents the average number of particles found at a distance $d$ where $r\\leq d \\leq r + \\Delta r$ from a given particle $i$. For an ideal gas, the position of all particles is independent."
   ]
  }
 ],
 "metadata": {
  "language_info": {
   "name": "python"
  }
 },
 "nbformat": 4,
 "nbformat_minor": 2
}
