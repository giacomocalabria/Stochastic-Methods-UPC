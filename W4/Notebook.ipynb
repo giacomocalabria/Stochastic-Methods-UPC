{
 "cells": [
  {
   "cell_type": "code",
   "execution_count": 1,
   "metadata": {},
   "outputs": [],
   "source": [
    "import random\n",
    "import math\n",
    "import matplotlib.pyplot as plt\n",
    "import numpy as np"
   ]
  },
  {
   "cell_type": "markdown",
   "metadata": {},
   "source": [
    "# Annealing method for 2D Thompson atomic mode\n",
    "\n",
    "We want to simulate a system composed of Coulomb charges in a two-dimensional trap (Thompson atomic model) by using the classical Monte Carlo method and using the annealing method to find the minimal energy configuration.\n",
    "\n",
    "The Metropolis Monte Carlo code to simulate a system consisting of $N$ Coulomb charges in a 2D harmonic trap. The potential energy is given by\n",
    "$$E_{pot}=\\sum_{i=1}^N{\\frac12m\\omega²r_i²}+\\sum_{i<j}^N{\\frac{q²}{\\left|\\mathbf r_i-\\mathbf r_j\\right|}}$$\n",
    "\n",
    "We choose dimensionless units of length $r_0$ and energy $E_0$ in such a way that $E_0=\\frac12m\\omega^2r_0=\\frac{q^2}{r_0}$, and we use the following dimensionless variables:\n",
    "    position $\\tilde r = r/r_0$\n",
    "    energy $\\tilde E = E/E_0$\n",
    "    temperature $\\tilde T = k_BT/E_0$\n",
    "Using these units, the potential energy becomes\n",
    "$$\\tilde E_{pot}=\\sum_{i=1}^N{\\tilde r_i²}+\\sum_{i<j}^N{\\frac1{\\left|\\mathbf{\\tilde r}_i-\\mathbf{\\tilde r}_j\\right|}}$$"
   ]
  },
  {
   "cell_type": "code",
   "execution_count": 40,
   "metadata": {},
   "outputs": [],
   "source": [
    "def potential(N, R):\n",
    "    E = 0\n",
    "    for i in range(N):\n",
    "        E += (R[i,0]**2 + R[i,1]**2)\n",
    "        for j in range(i+1,N):\n",
    "            E += 1/np.sqrt((R[i,0]-R[j,0])**2 + (R[i,1]-R[j,1])**2)\n",
    "    return E\n",
    "\n",
    "def MaxBoltz(N, R, Rp, T):\n",
    "    return math.exp(-(potential(N,Rp) - potential(N, R))/T)"
   ]
  },
  {
   "cell_type": "code",
   "execution_count": 41,
   "metadata": {},
   "outputs": [],
   "source": [
    "def globalMode(N, R, T, Delta):\n",
    "    Rp = np.zeros((N,2))\n",
    "    \n",
    "    # Moving all particles\n",
    "    for i in range(N):\n",
    "        ux = (random.random()*2-1)*Delta\n",
    "        uy = (random.random()*2-1)*Delta\n",
    "\n",
    "        Rp[i] = R[i] + [ux,uy]\n",
    "\n",
    "    # Acceptance probability\n",
    "    w = MaxBoltz(N, R, Rp, T)\n",
    "\n",
    "    # Metropolis test\n",
    "    if int(random.random() + w) > 0:\n",
    "        return R\n",
    "    else:\n",
    "        return Rp"
   ]
  },
  {
   "cell_type": "code",
   "execution_count": 42,
   "metadata": {},
   "outputs": [],
   "source": [
    "def singleMove(N, R, T, Delta):\n",
    "    Rp = np.zeros((N,2))\n",
    "\n",
    "    # Moving a single particle\n",
    "    j = int(random.random()*N)\n",
    "    ux = (random.random()*2-1)*Delta\n",
    "    uy = (random.random()*2-1)*Delta\n",
    "\n",
    "    Rp[j] = R[j] + [ux,uy]\n",
    "\n",
    "    # Acceptance probability\n",
    "    w = MaxBoltz(N, R, Rp, T)\n",
    "\n",
    "    # Metropolis test\n",
    "    if int(random.random() + w) > 0:\n",
    "        R = Rp\n",
    "    return R\n",
    "\n",
    "def localMove(N, R, T, Delta):\n",
    "    Rp = np.zeros((N,2))\n",
    "\n",
    "    for j in range(N):\n",
    "        Rp = R.copy()\n",
    "\n",
    "        ux = (random.random()*2-1)*Delta\n",
    "        uy = (random.random()*2-1)*Delta\n",
    "\n",
    "        Rp[j] = R[j] + [ux,uy]\n",
    "\n",
    "        # Acceptance probability\n",
    "        w = MaxBoltz(N, R, Rp, T)\n",
    "\n",
    "        # Metropolis test\n",
    "        if int(random.random() + w) > 0:\n",
    "            R = Rp\n",
    "    return R"
   ]
  },
  {
   "cell_type": "code",
   "execution_count": 45,
   "metadata": {},
   "outputs": [
    {
     "name": "stderr",
     "output_type": "stream",
     "text": [
      "  0%|          | 0/500000 [00:00<?, ?it/s]C:\\Users\\giova\\AppData\\Local\\Temp\\ipykernel_13488\\380186065.py:6: RuntimeWarning: divide by zero encountered in scalar divide\n",
      "  E += 1/np.sqrt((R[i,0]-R[j,0])**2 + (R[i,1]-R[j,1])**2)\n",
      " 16%|█▌        | 78586/500000 [04:03<21:45, 322.83it/s]\n"
     ]
    },
    {
     "ename": "KeyboardInterrupt",
     "evalue": "",
     "output_type": "error",
     "traceback": [
      "\u001b[1;31m---------------------------------------------------------------------------\u001b[0m",
      "\u001b[1;31mKeyboardInterrupt\u001b[0m                         Traceback (most recent call last)",
      "Cell \u001b[1;32mIn[45], line 27\u001b[0m\n\u001b[0;32m     25\u001b[0m pbar\u001b[38;5;241m.\u001b[39mupdate()\n\u001b[0;32m     26\u001b[0m \u001b[38;5;66;03m# Global move\u001b[39;00m\n\u001b[1;32m---> 27\u001b[0m R \u001b[38;5;241m=\u001b[39m \u001b[43mglobalMode\u001b[49m\u001b[43m(\u001b[49m\u001b[43mN\u001b[49m\u001b[43m,\u001b[49m\u001b[43m \u001b[49m\u001b[43mR\u001b[49m\u001b[43m,\u001b[49m\u001b[43m \u001b[49m\u001b[43mT\u001b[49m\u001b[43m,\u001b[49m\u001b[43m \u001b[49m\u001b[43mDelta\u001b[49m\u001b[43m)\u001b[49m\n\u001b[0;32m     28\u001b[0m \u001b[38;5;66;03m# Single move\u001b[39;00m\n\u001b[0;32m     29\u001b[0m R \u001b[38;5;241m=\u001b[39m singleMove(N, R, T, Delta)\n",
      "Cell \u001b[1;32mIn[41], line 9\u001b[0m, in \u001b[0;36mglobalMode\u001b[1;34m(N, R, T, Delta)\u001b[0m\n\u001b[0;32m      6\u001b[0m     ux \u001b[38;5;241m=\u001b[39m (random\u001b[38;5;241m.\u001b[39mrandom()\u001b[38;5;241m*\u001b[39m\u001b[38;5;241m2\u001b[39m\u001b[38;5;241m-\u001b[39m\u001b[38;5;241m1\u001b[39m)\u001b[38;5;241m*\u001b[39mDelta\n\u001b[0;32m      7\u001b[0m     uy \u001b[38;5;241m=\u001b[39m (random\u001b[38;5;241m.\u001b[39mrandom()\u001b[38;5;241m*\u001b[39m\u001b[38;5;241m2\u001b[39m\u001b[38;5;241m-\u001b[39m\u001b[38;5;241m1\u001b[39m)\u001b[38;5;241m*\u001b[39mDelta\n\u001b[1;32m----> 9\u001b[0m     Rp[i] \u001b[38;5;241m=\u001b[39m R[i] \u001b[38;5;241m+\u001b[39m [ux,uy]\n\u001b[0;32m     11\u001b[0m \u001b[38;5;66;03m# Acceptance probability\u001b[39;00m\n\u001b[0;32m     12\u001b[0m w \u001b[38;5;241m=\u001b[39m MaxBoltz(N, R, Rp, T)\n",
      "\u001b[1;31mKeyboardInterrupt\u001b[0m: "
     ]
    }
   ],
   "source": [
    "\n",
    "# Parameters\n",
    "from matplotlib import legend\n",
    "from tqdm import tqdm  # for progress bar (optional)\n",
    "\n",
    "N = 26 # number of charges\n",
    "T0 = 10 # Temperatures\n",
    "Delta = 0.9 # maximum displacement\n",
    "\n",
    "# Generate a random initial configuration\n",
    "R0 = 2 * np.random.rand(N, 2) - 1\n",
    "\n",
    "R = R0\n",
    "T = T0\n",
    "\n",
    "# Number of Monte Carlo steps\n",
    "nsteps = 1000\n",
    "\n",
    "Temp = np.zeros(nsteps)\n",
    "Epot = np.zeros(nsteps)\n",
    "\n",
    "with tqdm(total=nsteps*500) as pbar:\n",
    "    for i in range(nsteps):\n",
    "\n",
    "        for j in range(500):\n",
    "            pbar.update()\n",
    "            # Global move\n",
    "            R = globalMode(N, R, T, Delta)\n",
    "            # Single move\n",
    "            R = singleMove(N, R, T, Delta)\n",
    "        \n",
    "        # Cooling\n",
    "        T = T * 0.999\n",
    "\n",
    "        # Store temperature and energy\n",
    "        Temp[i] = T\n",
    "        Epot[i] = potential(N, R)\n",
    "\n",
    "# Plot initial and final configurations\n",
    "plt.plot(R0[:,0],R0[:,1],'o')\n",
    "plt.plot(R[:,0],R[:,1],'x')\n",
    "plt.show()\n",
    "\n",
    "print(R)\n",
    "print('Final potential energy:', potential(N, R))\n",
    "\n",
    "# Plot temperature and energy\n",
    "plt.plot(Temp, label='Temperature')\n",
    "plt.plot(Epot, label='Potential energy')\n",
    "plt.legend()\n",
    "plt.show()\n"
   ]
  }
 ],
 "metadata": {
  "kernelspec": {
   "display_name": "Python 3",
   "language": "python",
   "name": "python3"
  },
  "language_info": {
   "codemirror_mode": {
    "name": "ipython",
    "version": 3
   },
   "file_extension": ".py",
   "mimetype": "text/x-python",
   "name": "python",
   "nbconvert_exporter": "python",
   "pygments_lexer": "ipython3",
   "version": "3.12.1"
  }
 },
 "nbformat": 4,
 "nbformat_minor": 2
}
