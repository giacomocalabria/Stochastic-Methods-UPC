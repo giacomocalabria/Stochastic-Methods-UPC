{
 "cells": [
  {
   "cell_type": "code",
   "execution_count": 1,
   "metadata": {},
   "outputs": [],
   "source": [
    "import random\n",
    "import math\n",
    "import matplotlib.pyplot as plt\n",
    "import numpy as np"
   ]
  },
  {
   "cell_type": "markdown",
   "metadata": {},
   "source": [
    "# Annealing method for 2D Thompson atomic mode\n",
    "\n",
    "We want to simulate a system composed of Coulomb charges in a two-dimensional trap (Thompson atomic model) by using the classical Monte Carlo method and using the annealing method to find the minimal energy configuration\n",
    "\n",
    "The Metropolis Monte Carlo code to simulate a system consisting of $N$ Coulomb charges in a 2D harmonic trap. The potential energy is given by\n",
    "$$E_{pot}=\\sum_{i=1}^N{\\frac12m\\omega²r_i²}+\\sum_{i<j}^N{\\frac{q²}{\\left|\\mathbf r_i-\\mathbf r_j\\right|}}$$\n",
    "\n"
   ]
  },
  {
   "cell_type": "code",
   "execution_count": null,
   "metadata": {},
   "outputs": [],
   "source": [
    "N = 5 # number of charges\n",
    "\n"
   ]
  }
 ],
 "metadata": {
  "kernelspec": {
   "display_name": "Python 3",
   "language": "python",
   "name": "python3"
  },
  "language_info": {
   "codemirror_mode": {
    "name": "ipython",
    "version": 3
   },
   "file_extension": ".py",
   "mimetype": "text/x-python",
   "name": "python",
   "nbconvert_exporter": "python",
   "pygments_lexer": "ipython3",
   "version": "3.10.13"
  }
 },
 "nbformat": 4,
 "nbformat_minor": 2
}
