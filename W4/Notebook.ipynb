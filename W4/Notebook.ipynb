{
 "cells": [
  {
   "cell_type": "code",
   "execution_count": null,
   "metadata": {},
   "outputs": [],
   "source": [
    "import random\n",
    "import math\n",
    "import matplotlib.pyplot as plt\n",
    "import numpy as np"
   ]
  },
  {
   "cell_type": "markdown",
   "metadata": {},
   "source": [
    "# Annealing method for 2D Thompson atomic mode\n",
    "\n",
    "We want to simulate a system composed of Coulomb charges in a two-dimensional trap (Thompson atomic model) by using the classical Monte Carlo method and using the annealing method to find the minimal energy configuration.\n",
    "\n",
    "The Metropolis Monte Carlo code to simulate a system consisting of $N$ Coulomb charges in a 2D harmonic trap. The potential energy is given by\n",
    "$$E_{pot}=\\sum_{i=1}^N{\\frac12m\\omega²r_i²}+\\sum_{i<j}^N{\\frac{q²}{\\left|\\mathbf r_i-\\mathbf r_j\\right|}}$$\n",
    "\n",
    "We choose dimensionless units of length $r_0$ and energy $E_0$ in such a way that $E_0=\\frac12m\\omega^2r_0=\\frac{q^2}{r_0}$, and we use the following dimensionless variables:\n",
    "    position $\\tilde r = r/r_0$\n",
    "    energy $\\tilde E = E/E_0$\n",
    "    temperature $\\tilde T = k_BT/E_0$\n",
    "Using these units, the potential energy becomes\n",
    "$$\\tilde E_{pot}=\\sum_{i=1}^N{\\frac12\\tilde r_i²}+\\sum_{i<j}^N{\\frac1{\\left|\\mathbf{\\tilde r}_i-\\mathbf{\\tilde r}_j\\right|}}$$"
   ]
  },
  {
   "cell_type": "code",
   "execution_count": null,
   "metadata": {},
   "outputs": [],
   "source": [
    "from re import M\n",
    "\n",
    "\n",
    "N = 5 # number of charges\n",
    "\n",
    "# Temperatures\n",
    "T = 100\n",
    "\n",
    "def potential(R):\n",
    "    E = 0\n",
    "    N = len(R)\n",
    "    for i in range(N):\n",
    "        E += (R[i,0]**2 + R[i,1]**2)\n",
    "        for j in range(i+1,N):\n",
    "            E += 1/np.sqrt((R[i,0]-R[j,0])**2 + (R[i,1]-R[j,1])**2)\n",
    "    return E\n",
    "\n",
    "def MaxBoltz(R,T):\n",
    "    return math.exp(-potential(R)/T)\n",
    "\n",
    "# Actual position\n",
    "R = np.zeros(N,2)\n",
    "\n",
    "# Trail position\n",
    "Rt = np.zeros(N,2)\n",
    "\n",
    "# Generate a random initial configuration\n",
    "R = np.random.rand(N,2)\n",
    "\n",
    "#Generate a trial position\n",
    "Rt = np.random.rand(N,2)\n",
    "\n",
    "#Calculate relative weight\n",
    "w = MaxBoltz(Rt,T)/MaxBoltz(R,T)\n",
    "\n",
    "u = random.random()\n",
    "\n"
   ]
  }
 ],
 "metadata": {
  "kernelspec": {
   "display_name": "Python 3",
   "language": "python",
   "name": "python3"
  },
  "language_info": {
   "codemirror_mode": {
    "name": "ipython",
    "version": 3
   },
   "file_extension": ".py",
   "mimetype": "text/x-python",
   "name": "python",
   "nbconvert_exporter": "python",
   "pygments_lexer": "ipython3",
   "version": "3.12.1"
  }
 },
 "nbformat": 4,
 "nbformat_minor": 2
}
