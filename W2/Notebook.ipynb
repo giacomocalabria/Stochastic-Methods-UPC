{
 "cells": [
  {
   "cell_type": "markdown",
   "metadata": {},
   "source": [
    "# Random Walk solution of Laplace equation\n",
    "\n",
    "## Problem 2.1\n",
    "Consider a square box of size $1\\times1$ where the left side has potential equal to +10 and the other sides have potential equal to +1\n",
    "\n",
    "Divide the whole square into a mesh containing a certain number of equally spaced lattice sites. Typical numbers range from sides 30×30 to 100×100\n",
    "\n",
    "Implement a discrete random walk algorith for solving the Laplace equation and report the dependence of the obatined potential distribution with heatmap.\n",
    "\n",
    "### Discrete random walk algorithm\n",
    "1. Start in a position $(x,y)$ where the value of the potential has to be estimated. Take a step in a random direction along the x or y axis. The step size is 1.\n",
    "\n",
    "2. Continue taking steps until the walker reaches the boundary of the box. Accumulate the value of the potential at the boundary $V_b(i)$, where $i$ is the number of steps taken.\n",
    "\n",
    "3. Repeat steps 1 and 2 a large M number of times and sum the potential at the boundary for each walker.\n",
    "\n",
    "4. The potential at the point $(x,y)$ is given by the average of the potential at the boundary for all the walkers.\n",
    "\n",
    "$$V(x,y) = \\frac{1}{M}\\sum_{i=1}^{M}V_b(i)$$\n",
    "\n",
    "where $M$ is the total number of walkers."
   ]
  },
  {
   "cell_type": "code",
   "execution_count": 5,
   "metadata": {},
   "outputs": [
    {
     "ename": "KeyboardInterrupt",
     "evalue": "",
     "output_type": "error",
     "traceback": [
      "\u001b[1;31m---------------------------------------------------------------------------\u001b[0m",
      "\u001b[1;31mKeyboardInterrupt\u001b[0m                         Traceback (most recent call last)",
      "Cell \u001b[1;32mIn[5], line 39\u001b[0m\n\u001b[0;32m     37\u001b[0m         temp \u001b[38;5;241m=\u001b[39m \u001b[38;5;241m0\u001b[39m\n\u001b[0;32m     38\u001b[0m         \u001b[38;5;28;01mfor\u001b[39;00m k \u001b[38;5;129;01min\u001b[39;00m \u001b[38;5;28mrange\u001b[39m(M):\n\u001b[1;32m---> 39\u001b[0m             temp \u001b[38;5;241m=\u001b[39m temp \u001b[38;5;241m+\u001b[39m \u001b[43mrandom_walk\u001b[49m\u001b[43m(\u001b[49m\u001b[43mi\u001b[49m\u001b[43m,\u001b[49m\u001b[43m \u001b[49m\u001b[43mj\u001b[49m\u001b[43m,\u001b[49m\u001b[43m \u001b[49m\u001b[43mN\u001b[49m\u001b[43m)\u001b[49m\n\u001b[0;32m     40\u001b[0m         Box[i][j] \u001b[38;5;241m=\u001b[39m temp\u001b[38;5;241m/\u001b[39mM \u001b[38;5;66;03m#Compute the estimated potential\u001b[39;00m\n\u001b[0;32m     42\u001b[0m \u001b[38;5;66;03m# Plot the Box into an image as heatmap\u001b[39;00m\n",
      "Cell \u001b[1;32mIn[5], line 16\u001b[0m, in \u001b[0;36mrandom_walk\u001b[1;34m(x, y, N)\u001b[0m\n\u001b[0;32m     13\u001b[0m \u001b[38;5;28;01mdef\u001b[39;00m \u001b[38;5;21mrandom_walk\u001b[39m(x, y, N):\n\u001b[0;32m     14\u001b[0m     \u001b[38;5;28;01mwhile\u001b[39;00m \u001b[38;5;28;01mTrue\u001b[39;00m:\n\u001b[0;32m     15\u001b[0m         \u001b[38;5;66;03m# Choose a random move\u001b[39;00m\n\u001b[1;32m---> 16\u001b[0m         xmove \u001b[38;5;241m=\u001b[39m \u001b[43mrandom\u001b[49m\u001b[38;5;241;43m.\u001b[39;49m\u001b[43mchoice\u001b[49m\u001b[43m(\u001b[49m\u001b[43m[\u001b[49m\u001b[38;5;241;43m-\u001b[39;49m\u001b[38;5;241;43m1\u001b[39;49m\u001b[43m,\u001b[49m\u001b[43m \u001b[49m\u001b[38;5;241;43m0\u001b[39;49m\u001b[43m,\u001b[49m\u001b[43m \u001b[49m\u001b[38;5;241;43m1\u001b[39;49m\u001b[43m]\u001b[49m\u001b[43m)\u001b[49m\n\u001b[0;32m     17\u001b[0m         ymove \u001b[38;5;241m=\u001b[39m random\u001b[38;5;241m.\u001b[39mchoice([\u001b[38;5;241m-\u001b[39m\u001b[38;5;241m1\u001b[39m, \u001b[38;5;241m0\u001b[39m, \u001b[38;5;241m1\u001b[39m])\n\u001b[0;32m     19\u001b[0m         \u001b[38;5;66;03m# Update the position\u001b[39;00m\n",
      "File \u001b[1;32mc:\\Users\\giova\\AppData\\Local\\Programs\\Python\\Python312\\Lib\\random.py:341\u001b[0m, in \u001b[0;36mRandom.choice\u001b[1;34m(self, seq)\u001b[0m\n\u001b[0;32m    336\u001b[0m     \u001b[38;5;28;01mreturn\u001b[39;00m \u001b[38;5;28mself\u001b[39m\u001b[38;5;241m.\u001b[39mrandrange(a, b\u001b[38;5;241m+\u001b[39m\u001b[38;5;241m1\u001b[39m)\n\u001b[0;32m    339\u001b[0m \u001b[38;5;66;03m## -------------------- sequence methods  -------------------\u001b[39;00m\n\u001b[1;32m--> 341\u001b[0m \u001b[38;5;28;01mdef\u001b[39;00m \u001b[38;5;21mchoice\u001b[39m(\u001b[38;5;28mself\u001b[39m, seq):\n\u001b[0;32m    342\u001b[0m \u001b[38;5;250m    \u001b[39m\u001b[38;5;124;03m\"\"\"Choose a random element from a non-empty sequence.\"\"\"\u001b[39;00m\n\u001b[0;32m    344\u001b[0m     \u001b[38;5;66;03m# As an accommodation for NumPy, we don't use \"if not seq\"\u001b[39;00m\n\u001b[0;32m    345\u001b[0m     \u001b[38;5;66;03m# because bool(numpy.array()) raises a ValueError.\u001b[39;00m\n",
      "\u001b[1;31mKeyboardInterrupt\u001b[0m: "
     ]
    }
   ],
   "source": [
    "import random\n",
    "import matplotlib.pyplot as plt\n",
    "import numpy as np\n",
    "\n",
    "N = 50 # number of sites in the box\n",
    "\n",
    "M = 500 # number of random walk per position\n",
    "\n",
    "# Create a 2D array NxN of positions \n",
    "Box = np.zeros((N,N))\n",
    "\n",
    "# Function to perform a random walk\n",
    "def random_walk(x, y, N):\n",
    "    while True:\n",
    "        # Choose a random move\n",
    "        xmove = random.choice([-1, 0, 1])\n",
    "        ymove = random.choice([-1, 0, 1])\n",
    "\n",
    "        # Update the position\n",
    "        x += xmove\n",
    "        y += ymove\n",
    "\n",
    "        # Check if the particle is outside the box\n",
    "        if x >= N:\n",
    "            return 10\n",
    "        if y >= N:\n",
    "            return 1\n",
    "        if y <= 0:\n",
    "            return 1\n",
    "        if x <= 0:\n",
    "            return 1\n",
    "        \n",
    "\n",
    "# Perform M random walks for each position in the box\n",
    "for i in range(N):\n",
    "    for j in range(N):\n",
    "        temp = 0\n",
    "        for k in range(M):\n",
    "            temp = temp + random_walk(i, j, N)\n",
    "        Box[i][j] = temp/M #Compute the estimated potential\n",
    "    \n",
    "# Plot the Box into an image as heatmap\n",
    "plt.imshow(Box, cmap='inferno', interpolation='bilinear')\n",
    "\n",
    "# Add a colorbar\n",
    "cbar = plt.colorbar(ticks=[1, 2, 3, 4, 5, 6, 7, 8, 9, 10])\n",
    "cbar.ax.set_yticklabels(['1', '2', '3', '4', '5', '6', '7', '8', '9', '10'])\n",
    "\n",
    "# Set plot title and axis labels\n",
    "plt.title(r\"Potential heatmap\")\n",
    "plt.xlabel(r\"X-axis\")\n",
    "plt.ylabel(r\"Y-axis\")\n",
    "plt.show()\n"
   ]
  }
 ],
 "metadata": {
  "kernelspec": {
   "display_name": "Python 3",
   "language": "python",
   "name": "python3"
  },
  "language_info": {
   "codemirror_mode": {
    "name": "ipython",
    "version": 3
   },
   "file_extension": ".py",
   "mimetype": "text/x-python",
   "name": "python",
   "nbconvert_exporter": "python",
   "pygments_lexer": "ipython3",
   "version": "3.12.1"
  }
 },
 "nbformat": 4,
 "nbformat_minor": 2
}
